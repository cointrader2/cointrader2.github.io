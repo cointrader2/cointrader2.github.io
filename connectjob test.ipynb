{
 "metadata": {
  "language_info": {
   "codemirror_mode": {
    "name": "ipython",
    "version": 3
   },
   "file_extension": ".py",
   "mimetype": "text/x-python",
   "name": "python",
   "nbconvert_exporter": "python",
   "pygments_lexer": "ipython3",
   "version": "3.7.0-final"
  },
  "orig_nbformat": 2,
  "kernelspec": {
   "name": "python3",
   "display_name": "Python 3",
   "language": "python"
  }
 },
 "nbformat": 4,
 "nbformat_minor": 2,
 "cells": [
  {
   "cell_type": "code",
   "execution_count": 57,
   "metadata": {},
   "outputs": [],
   "source": [
    "# you can write to stdout for debugging purposes, e.g.\n",
    "# print(\"this is a debug message\")\n",
    "\n",
    "def solution(A):\n",
    "    # write your code in Python 3.6\n",
    "    m = len(A)\n",
    "    n = len(A[0])\n",
    "\n",
    "    dp = [[0]*n for _ in range(m)]\n",
    "    for i in range(m):\n",
    "        for j in range(n):\n",
    "            if A[i][j] == True:\n",
    "                dp[i][j] = 1\n",
    "    print(dp)\n",
    "    for i in range(m):\n",
    "        for j in range(n):\n",
    "            if dp[i][j]>0:\n",
    "                a = dp[i-1][j] if i-1>=0 else 0\n",
    "                b = dp[i][j-1] if j-1>=0 else 0\n",
    "                c = dp[i-1][j-1] if i-1.+0 and j-1>=0 else 0\n",
    "                print(a,b,c)\n",
    "                dp[i][j] = min( a, b, c ) + 1\n",
    "    res = 0\n",
    "    print(dp)\n",
    "    for i in range(m):\n",
    "        for j in range(n):\n",
    "            now = dp[i][j] #can cut some.\n",
    "            if now >0:\n",
    "                for k in range(1, now +1):\n",
    "                    if i + k<m and  j+k<n and dp[i+k][j]!=0 and dp[i+k][j+k]!=0:\n",
    "                        lendown = dp[i+k][j]\n",
    "                        lenright = dp[i+k][j+k]\n",
    "                        if lendown == 0 or lenright == 0: break\n",
    "                        res = max(res, min(k, lendown,lenright))\n",
    "                        print(i,j, 'res', res)\n",
    "\n",
    "    return res if res else 0\n",
    "\n"
   ]
  },
  {
   "cell_type": "code",
   "execution_count": 58,
   "metadata": {},
   "outputs": [],
   "source": [
    "A = [[True, False], [True, True]]"
   ]
  },
  {
   "cell_type": "code",
   "execution_count": 59,
   "metadata": {},
   "outputs": [
    {
     "output_type": "stream",
     "name": "stdout",
     "text": [
      "[[1, 0], [1, 1]]\n0 0 0\n1 0 0\n0 1 0\n[[1, 0], [1, 1]]\n0 0 res 1\n"
     ]
    },
    {
     "output_type": "execute_result",
     "data": {
      "text/plain": [
       "1"
      ]
     },
     "metadata": {},
     "execution_count": 59
    }
   ],
   "source": [
    "solution(A)"
   ]
  },
  {
   "cell_type": "code",
   "execution_count": 60,
   "metadata": {},
   "outputs": [],
   "source": [
    "A = [[True, False, True, False, False, False, False, False], [True, True, True, False, False, False, False, False], [True, True, True, False, False, False, False, True], [False, True, True, True, True, True, True, False], [False, True, True, True, True, True, True, False], [False, False, True, False, True, False, True, False]]"
   ]
  },
  {
   "cell_type": "code",
   "execution_count": 61,
   "metadata": {},
   "outputs": [
    {
     "output_type": "stream",
     "name": "stdout",
     "text": [
      "[[1, 0, 1, 0, 0, 0, 0, 0], [1, 1, 1, 0, 0, 0, 0, 0], [1, 1, 1, 0, 0, 0, 0, 1], [0, 1, 1, 1, 1, 1, 1, 0], [0, 1, 1, 1, 1, 1, 1, 0], [0, 0, 1, 0, 1, 0, 1, 0]]\n0 0 0\n0 0 0\n1 0 0\n0 1 0\n1 1 0\n1 0 0\n1 1 1\n1 2 1\n0 0 0\n2 0 1\n2 1 2\n0 2 2\n0 1 0\n0 1 0\n0 1 0\n1 0 0\n2 1 1\n1 2 2\n1 2 1\n1 2 1\n1 2 1\n2 0 1\n2 0 2\n2 0 2\n[[1, 0, 1, 0, 0, 0, 0, 0], [1, 1, 1, 0, 0, 0, 0, 0], [1, 2, 2, 0, 0, 0, 0, 1], [0, 1, 2, 1, 1, 1, 1, 0], [0, 1, 2, 2, 2, 2, 2, 0], [0, 0, 1, 0, 1, 0, 1, 0]]\n0 0 res 1\n1 0 res 1\n1 1 res 1\n2 1 res 1\n2 1 res 1\n2 2 res 1\n2 2 res 2\n3 1 res 2\n3 2 res 2\n3 2 res 2\n3 3 res 2\n3 4 res 2\n3 5 res 2\n"
     ]
    },
    {
     "output_type": "execute_result",
     "data": {
      "text/plain": [
       "2"
      ]
     },
     "metadata": {},
     "execution_count": 61
    }
   ],
   "source": [
    "solution(A)"
   ]
  },
  {
   "cell_type": "code",
   "execution_count": 62,
   "metadata": {},
   "outputs": [],
   "source": [
    "A= [[False, False, True, True, True, True, True, True, True, True, True, False, False, False, True, True, True, True, True, False, False], [False, True, True, True, True, True, True, True, True, True, True, True, False, False, True, True, True, True, True, False, False], [True, True, True, True, True, True, True, True, True, True, True, True, True, False, True, True, True, True, True, False, False], [True, True, True, True, False, False, False, False, True, True, True, True, True, False, False, False, True, True, True, False, False], [True, True, True, False, False, False, False, True, True, True, True, True, True, False, False, False, True, True, True, False, False], [True, True, True, False, False, False, True, True, True, True, True, True, True, False, False, False, True, True, True, False, False], [True, True, True, False, False, True, True, True, True, True, True, True, True, False, False, False, True, True, True, False, False], [True, True, True, False, True, True, True, True, True, True, True, True, True, False, False, False, True, True, True, False, False], [True, True, True, True, True, True, True, True, True, True, True, True, True, False, False, False, True, True, True, False, False], [True, True, True, True, True, True, True, True, True, False, True, True, True, False, False, False, True, True, True, False, False], [True, True, True, True, True, True, True, True, False, False, True, True, True, False, False, False, True, True, True, False, False], [True, True, True, True, True, True, True, False, False, False, True, True, True, False, False, False, True, True, True, False, False], [True, True, True, True, True, True, False, False, False, False, True, True, True, False, False, False, True, True, True, False, False], [True, True, True, True, True, False, False, False, False, True, True, True, True, False, False, False, True, True, True, False, False], [True, True, True, True, True, True, True, True, True, True, True, True, True, False, True, True, True, True, True, True, True], [False, True, True, True, True, True, True, True, True, True, True, True, False, False, True, True, True, True, True, True, True], [False, False, True, True, True, True, True, True, True, True, True, False, False, False, True, True, True, True, True, True, True]]"
   ]
  },
  {
   "cell_type": "code",
   "execution_count": null,
   "metadata": {},
   "outputs": [],
   "source": []
  },
  {
   "cell_type": "code",
   "execution_count": null,
   "metadata": {},
   "outputs": [],
   "source": []
  },
  {
   "cell_type": "code",
   "execution_count": 63,
   "metadata": {},
   "outputs": [
    {
     "output_type": "stream",
     "name": "stdout",
     "text": [
      "[[0, 0, 1, 1, 1, 1, 1, 1, 1, 1, 1, 0, 0, 0, 1, 1, 1, 1, 1, 0, 0], [0, 1, 1, 1, 1, 1, 1, 1, 1, 1, 1, 1, 0, 0, 1, 1, 1, 1, 1, 0, 0], [1, 1, 1, 1, 1, 1, 1, 1, 1, 1, 1, 1, 1, 0, 1, 1, 1, 1, 1, 0, 0], [1, 1, 1, 1, 0, 0, 0, 0, 1, 1, 1, 1, 1, 0, 0, 0, 1, 1, 1, 0, 0], [1, 1, 1, 0, 0, 0, 0, 1, 1, 1, 1, 1, 1, 0, 0, 0, 1, 1, 1, 0, 0], [1, 1, 1, 0, 0, 0, 1, 1, 1, 1, 1, 1, 1, 0, 0, 0, 1, 1, 1, 0, 0], [1, 1, 1, 0, 0, 1, 1, 1, 1, 1, 1, 1, 1, 0, 0, 0, 1, 1, 1, 0, 0], [1, 1, 1, 0, 1, 1, 1, 1, 1, 1, 1, 1, 1, 0, 0, 0, 1, 1, 1, 0, 0], [1, 1, 1, 1, 1, 1, 1, 1, 1, 1, 1, 1, 1, 0, 0, 0, 1, 1, 1, 0, 0], [1, 1, 1, 1, 1, 1, 1, 1, 1, 0, 1, 1, 1, 0, 0, 0, 1, 1, 1, 0, 0], [1, 1, 1, 1, 1, 1, 1, 1, 0, 0, 1, 1, 1, 0, 0, 0, 1, 1, 1, 0, 0], [1, 1, 1, 1, 1, 1, 1, 0, 0, 0, 1, 1, 1, 0, 0, 0, 1, 1, 1, 0, 0], [1, 1, 1, 1, 1, 1, 0, 0, 0, 0, 1, 1, 1, 0, 0, 0, 1, 1, 1, 0, 0], [1, 1, 1, 1, 1, 0, 0, 0, 0, 1, 1, 1, 1, 0, 0, 0, 1, 1, 1, 0, 0], [1, 1, 1, 1, 1, 1, 1, 1, 1, 1, 1, 1, 1, 0, 1, 1, 1, 1, 1, 1, 1], [0, 1, 1, 1, 1, 1, 1, 1, 1, 1, 1, 1, 0, 0, 1, 1, 1, 1, 1, 1, 1], [0, 0, 1, 1, 1, 1, 1, 1, 1, 1, 1, 0, 0, 0, 1, 1, 1, 1, 1, 1, 1]]\n0 0 0\n0 1 1\n0 1 1\n0 1 1\n0 1 1\n0 1 1\n0 1 1\n0 1 1\n0 1 1\n0 0 0\n0 1 1\n0 1 1\n0 1 1\n0 1 1\n0 0 0\n1 1 0\n1 1 0\n1 1 0\n1 1 0\n1 1 0\n1 1 0\n1 1 0\n1 1 0\n1 1 0\n0 1 0\n1 0 0\n1 1 0\n1 1 0\n1 1 0\n1 1 0\n0 0 0\n1 1 0\n1 1 1\n1 2 1\n1 2 1\n1 2 1\n1 2 1\n1 2 1\n1 2 1\n1 2 1\n1 2 1\n1 2 1\n0 2 1\n1 0 0\n1 1 1\n1 2 1\n1 2 1\n1 2 1\n1 0 0\n1 1 1\n2 2 1\n2 2 2\n2 0 2\n2 1 2\n2 2 2\n2 3 2\n1 3 2\n2 0 2\n2 1 2\n2 2 2\n1 0 0\n2 1 1\n2 2 2\n0 0 0\n1 1 0\n2 1 1\n3 2 2\n3 3 3\n2 4 3\n1 0 0\n2 1 1\n3 2 2\n1 0 0\n2 1 1\n3 2 2\n0 0 0\n1 1 0\n1 1 1\n2 2 1\n3 2 2\n4 3 3\n3 4 4\n1 0 0\n2 1 1\n3 2 2\n1 0 0\n2 1 1\n3 2 2\n0 0 0\n1 1 0\n1 1 1\n2 2 1\n2 2 2\n3 3 2\n4 3 3\n4 4 4\n1 0 0\n2 1 1\n3 2 2\n1 0 0\n2 1 1\n3 2 2\n0 0 0\n1 1 0\n1 1 1\n2 2 1\n2 2 2\n3 3 2\n3 3 3\n4 4 3\n5 4 4\n1 0 0\n2 1 1\n3 2 2\n1 0 0\n2 1 1\n3 2 2\n0 3 3\n1 1 0\n1 1 1\n2 2 1\n2 2 2\n3 3 2\n3 3 3\n4 4 3\n4 4 4\n5 5 4\n1 0 0\n2 1 1\n3 2 2\n1 0 0\n2 1 1\n3 2 2\n1 3 3\n1 2 1\n2 2 1\n2 2 2\n3 3 2\n3 3 3\n4 0 4\n5 1 4\n5 2 5\n1 0 0\n2 1 1\n3 2 2\n1 0 0\n2 1 1\n3 2 2\n2 3 3\n2 3 2\n2 3 2\n3 3 2\n3 3 3\n1 0 0\n2 1 1\n3 2 2\n1 0 0\n2 1 1\n3 2 2\n1 0 0\n2 1 1\n3 2 2\n3 3 3\n3 4 3\n3 4 3\n3 4 3\n1 0 0\n2 1 1\n3 2 2\n1 0 0\n2 1 1\n3 2 2\n1 0 0\n2 1 1\n3 2 2\n4 3 3\n4 4 4\n4 5 4\n1 0 0\n2 1 1\n3 2 2\n1 0 0\n2 1 1\n3 2 2\n1 0 0\n2 1 1\n3 2 2\n4 3 3\n5 4 4\n0 0 0\n1 1 0\n2 1 1\n3 2 2\n1 0 0\n2 1 1\n3 2 2\n1 0 0\n2 1 1\n3 2 2\n4 3 3\n5 4 4\n0 5 5\n0 1 0\n0 1 0\n0 1 0\n1 1 0\n1 1 1\n2 2 1\n3 2 2\n0 0 0\n0 1 0\n1 1 0\n2 1 1\n3 2 2\n0 3 3\n0 1 0\n2 0 1\n3 1 2\n4 2 3\n5 3 4\n1 4 5\n1 2 1\n1 2 1\n1 2 1\n1 2 1\n2 2 1\n2 2 2\n1 0 0\n1 1 1\n1 2 1\n2 2 1\n3 2 2\n1 3 3\n1 2 1\n2 0 1\n3 1 2\n4 2 3\n2 3 4\n2 3 2\n2 3 2\n2 3 2\n2 3 2\n2 3 2\n1 0 0\n2 1 1\n2 2 2\n2 3 2\n3 3 2\n2 3 3\n2 3 2\n[[0, 0, 1, 1, 1, 1, 1, 1, 1, 1, 1, 0, 0, 0, 1, 1, 1, 1, 1, 0, 0], [0, 1, 1, 1, 1, 1, 1, 1, 1, 1, 1, 1, 0, 0, 1, 1, 1, 1, 1, 0, 0], [1, 1, 2, 2, 2, 2, 2, 2, 2, 2, 2, 2, 1, 0, 1, 2, 2, 2, 2, 0, 0], [1, 2, 2, 3, 0, 0, 0, 0, 1, 2, 3, 3, 2, 0, 0, 0, 1, 2, 3, 0, 0], [1, 2, 3, 0, 0, 0, 0, 1, 1, 2, 3, 4, 3, 0, 0, 0, 1, 2, 3, 0, 0], [1, 2, 3, 0, 0, 0, 1, 1, 2, 2, 3, 4, 4, 0, 0, 0, 1, 2, 3, 0, 0], [1, 2, 3, 0, 0, 1, 1, 2, 2, 3, 3, 4, 5, 0, 0, 0, 1, 2, 3, 0, 0], [1, 2, 3, 0, 1, 1, 2, 2, 3, 3, 4, 4, 5, 0, 0, 0, 1, 2, 3, 0, 0], [1, 2, 3, 1, 1, 2, 2, 3, 3, 4, 4, 5, 5, 0, 0, 0, 1, 2, 3, 0, 0], [1, 2, 3, 2, 2, 2, 3, 3, 4, 0, 1, 2, 3, 0, 0, 0, 1, 2, 3, 0, 0], [1, 2, 3, 3, 3, 3, 3, 4, 0, 0, 1, 2, 3, 0, 0, 0, 1, 2, 3, 0, 0], [1, 2, 3, 4, 4, 4, 4, 0, 0, 0, 1, 2, 3, 0, 0, 0, 1, 2, 3, 0, 0], [1, 2, 3, 4, 5, 5, 0, 0, 0, 0, 1, 2, 3, 0, 0, 0, 1, 2, 3, 0, 0], [1, 2, 3, 4, 5, 0, 0, 0, 0, 1, 1, 2, 3, 0, 0, 0, 1, 2, 3, 0, 0], [1, 2, 3, 4, 5, 1, 1, 1, 1, 1, 2, 2, 3, 0, 1, 1, 1, 2, 3, 1, 1], [0, 1, 2, 3, 4, 2, 2, 2, 2, 2, 2, 3, 0, 0, 1, 2, 2, 2, 3, 2, 2], [0, 0, 1, 2, 3, 3, 3, 3, 3, 3, 3, 0, 0, 0, 1, 2, 3, 3, 3, 3, 3]]\n0 2 res 1\n0 3 res 1\n0 4 res 1\n0 5 res 1\n0 6 res 1\n0 7 res 1\n0 8 res 1\n0 9 res 1\n0 10 res 1\n0 14 res 1\n0 15 res 1\n0 16 res 1\n0 17 res 1\n1 1 res 1\n1 2 res 1\n1 3 res 1\n1 4 res 1\n1 5 res 1\n1 6 res 1\n1 7 res 1\n1 8 res 1\n1 9 res 1\n1 10 res 1\n1 11 res 1\n1 14 res 1\n1 15 res 1\n1 16 res 1\n1 17 res 1\n2 0 res 1\n2 1 res 1\n2 2 res 1\n2 7 res 1\n2 8 res 1\n2 8 res 1\n2 9 res 1\n2 9 res 2\n2 10 res 2\n2 10 res 2\n2 11 res 2\n2 16 res 2\n2 16 res 2\n2 17 res 2\n3 0 res 2\n3 1 res 2\n3 8 res 2\n3 9 res 2\n3 9 res 2\n3 10 res 2\n3 10 res 2\n3 11 res 2\n3 16 res 2\n3 17 res 2\n4 0 res 2\n4 1 res 2\n4 2 res 2\n4 7 res 2\n4 8 res 2\n4 9 res 2\n4 9 res 2\n4 10 res 2\n4 10 res 2\n4 11 res 2\n4 16 res 2\n4 17 res 2\n5 0 res 2\n5 1 res 2\n5 2 res 2\n5 2 res 2\n5 6 res 2\n5 7 res 2\n5 8 res 2\n5 8 res 2\n5 9 res 2\n5 9 res 2\n5 10 res 2\n5 10 res 2\n5 11 res 2\n5 12 res 2\n5 16 res 2\n5 17 res 2\n6 0 res 2\n6 1 res 2\n6 1 res 2\n6 2 res 2\n6 2 res 2\n6 5 res 2\n6 6 res 2\n6 7 res 2\n6 7 res 2\n6 8 res 2\n6 8 res 2\n6 9 res 2\n6 9 res 2\n6 10 res 2\n6 10 res 2\n6 11 res 2\n6 12 res 2\n6 12 res 2\n6 16 res 2\n6 17 res 2\n7 0 res 2\n7 1 res 2\n7 1 res 2\n7 2 res 2\n7 2 res 2\n7 2 res 3\n7 4 res 3\n7 5 res 3\n7 6 res 3\n7 6 res 3\n7 7 res 3\n7 8 res 3\n7 8 res 3\n7 9 res 3\n7 10 res 3\n7 10 res 3\n7 11 res 3\n7 12 res 3\n7 12 res 3\n7 16 res 3\n7 17 res 3\n8 0 res 3\n8 1 res 3\n8 1 res 3\n8 2 res 3\n8 2 res 3\n8 2 res 3\n8 3 res 3\n8 4 res 3\n8 5 res 3\n8 5 res 3\n8 6 res 3\n8 7 res 3\n8 10 res 3\n8 10 res 3\n8 11 res 3\n8 11 res 3\n8 12 res 3\n8 12 res 3\n8 16 res 3\n8 17 res 3\n9 0 res 3\n9 1 res 3\n9 1 res 3\n9 2 res 3\n9 2 res 3\n9 2 res 3\n9 3 res 3\n9 3 res 3\n9 4 res 3\n9 4 res 3\n9 5 res 3\n9 6 res 3\n9 10 res 3\n9 11 res 3\n9 16 res 3\n9 17 res 3\n10 0 res 3\n10 1 res 3\n10 1 res 3\n10 2 res 3\n10 2 res 3\n10 3 res 3\n10 3 res 3\n10 4 res 3\n10 5 res 3\n10 7 res 3\n10 10 res 3\n10 11 res 3\n10 16 res 3\n10 17 res 3\n11 0 res 3\n11 1 res 3\n11 1 res 3\n11 2 res 3\n11 2 res 3\n11 2 res 3\n11 3 res 3\n11 3 res 3\n11 3 res 3\n11 4 res 3\n11 4 res 3\n11 4 res 3\n11 5 res 3\n11 5 res 3\n11 6 res 3\n11 6 res 3\n11 10 res 3\n11 11 res 3\n11 12 res 3\n11 16 res 3\n11 17 res 3\n12 0 res 3\n12 1 res 3\n12 1 res 3\n12 2 res 3\n12 2 res 3\n12 2 res 3\n12 3 res 3\n12 3 res 3\n12 3 res 3\n12 3 res 3\n12 4 res 3\n12 4 res 3\n12 4 res 3\n12 5 res 3\n12 5 res 3\n12 5 res 3\n12 10 res 3\n12 11 res 3\n12 12 res 3\n12 16 res 3\n12 17 res 3\n12 17 res 3\n12 18 res 3\n13 0 res 3\n13 1 res 3\n13 1 res 3\n13 2 res 3\n13 2 res 3\n13 2 res 3\n13 3 res 3\n13 3 res 3\n13 3 res 3\n13 4 res 3\n13 4 res 3\n13 4 res 3\n13 9 res 3\n13 10 res 3\n13 11 res 3\n13 16 res 3\n13 17 res 3\n13 17 res 3\n13 18 res 3\n13 18 res 3\n14 1 res 3\n14 2 res 3\n14 2 res 3\n14 3 res 3\n14 3 res 3\n14 4 res 3\n14 4 res 3\n14 5 res 3\n14 6 res 3\n14 7 res 3\n14 8 res 3\n14 9 res 3\n14 10 res 3\n14 14 res 3\n14 15 res 3\n14 16 res 3\n14 17 res 3\n14 17 res 3\n14 18 res 3\n14 18 res 3\n14 19 res 3\n15 2 res 3\n15 3 res 3\n15 4 res 3\n15 5 res 3\n15 6 res 3\n15 7 res 3\n15 8 res 3\n15 9 res 3\n15 14 res 3\n15 15 res 3\n15 16 res 3\n15 17 res 3\n15 18 res 3\n15 19 res 3\n"
     ]
    },
    {
     "output_type": "execute_result",
     "data": {
      "text/plain": [
       "3"
      ]
     },
     "metadata": {},
     "execution_count": 63
    }
   ],
   "source": [
    "solution(A)"
   ]
  },
  {
   "cell_type": "code",
   "execution_count": null,
   "metadata": {},
   "outputs": [],
   "source": [
    "[[0, 0, 1, 1, 1, 1, 1, 1, 1, 1, 1, 0, 0, 0, 1, 1, 1, 1, 1, 0, 0], [0, 1, 1, 1, 1, 1, 1, 1, 1, 1, 1, 1, 0, 0, 1, 1, 1, 1, 1, 0, 0], \n",
    "[1, 1, 2, 2, 2, 2, 2, 2, 2, 2, 2, 2, 1, 0, 1, 2, 2, 2, 2, 0, 0], \n",
    "[1, 2, 2, 3, 0, 0, 0, 0, 1, 2, 3, 3, 2, 0, 0, 0, 1, 2, 3, 0, 0], \n",
    "[1, 2, 3, 0, 0, 0, 0, 1, 1, 2, 3, 4, 3, 0, 0, 0, 1, 2, 3, 0, 0], \n",
    "[1, 2, 3, 0, 0, 0, 1, 1, 2, 2, 3, 4, 4, 0, 0, 0, 1, 2, 3, 0, 0], \n",
    "[1, 2, 3, 0, 0, 1, 1, 2, 2, 3, 3, 4, 5, 0, 0, 0, 1, 2, 3, 0, 0],\n",
    " [1, 2, 3, 0, 1, 1, 2, 2, 3, 3, 4, 4, 5, 0, 0, 0, 1, 2, 3, 0, 0], [1, 2, 3, 1, 1, 2, 2, 3, 3, 4, 4, 5, 5, 0, 0, 0, 1, 2, 3, 0, 0], \n",
    " [1, 2, 3, 2, 2, 2, 3, 3, 4, 0, 1, 2, 3, 0, 0, 0, 1, 2, 3, 0, 0], [1, 2, 3, 3, 3, 3, 3, 4, 0, 0, 1, 2, 3, 0, 0, 0, 1, 2, 3, 0, 0], [1, 2, 3, 4, 4, 4, 4, 0, 0, 0, 1, 2, 3, 0, 0, 0, 1, 2, 3, 0, 0], [1, 2, 3, 4, 5, 5, 0, 0, 0, 0, 1, 2, 3, 0, 0, 0, 1, 2, 3, 0, 0], [1, 2, 3, 4, 5, 0, 0, 0, 0, 1, 1, 2, 3, 0, 0, 0, 1, 2, 3, 0, 0], [1, 2, 3, 4, 5, 1, 1, 1, 1, 1, 2, 2, 3, 0, 1, 1, 1, 2, 3, 1, 1], [0, 1, 2, 3, 4, 2, 2, 2, 2, 2, 2, 3, 0, 0, 1, 2, 2, 2, 3, 2, 2], [0, 0, 1, 2, 3, 3, 3, 3, 3, 3, 3, 0, 0, 0, 1, 2, 3, 3, 3, 3, 3]]"
   ]
  }
 ]
}